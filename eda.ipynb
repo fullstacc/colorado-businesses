{
 "cells": [
  {
   "cell_type": "code",
   "execution_count": 2,
   "metadata": {},
   "outputs": [],
   "source": [
    "import pandas as pd\n",
    "import numpy as np"
   ]
  },
  {
   "cell_type": "markdown",
   "metadata": {},
   "source": [
    "## Key Questions\n",
    "## Refactored Key Questions\n",
    "- Which **counties** in Colorado have the highest number of business filings?\n",
    "- What specific **regions** in Colorado show the highest number of business filings? *(Note: Define \"regions\" if it refers to specific geographical/administrative areas.)*\n",
    "- At the state level, which **types of businesses** or **industries** are most prevalent?\n",
    "- On a county basis, which **types of businesses** or **industries** are most common?\n",
    "- In different regions, what are the most common **types of businesses** or **industries**?\n",
    "- **Trend Analysis:** Is there an increasing trend in the number of business filings in Colorado over the past 5 years?\n",
    "- **Trend Analysis:** What has been the trend in business filings over the past 10 years?\n",
    "- **Trend Analysis:** How have business filings varied month-over-month in the last 12 months?\n"
   ]
  },
  {
   "cell_type": "code",
   "execution_count": 3,
   "metadata": {},
   "outputs": [],
   "source": [
    "# import business.csv\n",
    "df = pd.read_csv('Business.csv')"
   ]
  },
  {
   "cell_type": "code",
   "execution_count": 4,
   "metadata": {},
   "outputs": [
    {
     "data": {
      "text/html": [
       "<div>\n",
       "<style scoped>\n",
       "    .dataframe tbody tr th:only-of-type {\n",
       "        vertical-align: middle;\n",
       "    }\n",
       "\n",
       "    .dataframe tbody tr th {\n",
       "        vertical-align: top;\n",
       "    }\n",
       "\n",
       "    .dataframe thead th {\n",
       "        text-align: right;\n",
       "    }\n",
       "</style>\n",
       "<table border=\"1\" class=\"dataframe\">\n",
       "  <thead>\n",
       "    <tr style=\"text-align: right;\">\n",
       "      <th></th>\n",
       "      <th>entityid</th>\n",
       "      <th>entityname</th>\n",
       "      <th>principaladdress1</th>\n",
       "      <th>principaladdress2</th>\n",
       "      <th>principalcity</th>\n",
       "      <th>principalstate</th>\n",
       "      <th>principalzipcode</th>\n",
       "      <th>principalcountry</th>\n",
       "      <th>mailingaddress1</th>\n",
       "      <th>mailingaddress2</th>\n",
       "      <th>...</th>\n",
       "      <th>agentprincipalstate</th>\n",
       "      <th>agentprincipalzipcode</th>\n",
       "      <th>agentprincipalcountry</th>\n",
       "      <th>agentmailingaddress1</th>\n",
       "      <th>agentmailingaddress2</th>\n",
       "      <th>agentmailingcity</th>\n",
       "      <th>agentmailingstate</th>\n",
       "      <th>agentmailingzipcode</th>\n",
       "      <th>agentmailingcountry</th>\n",
       "      <th>entityformdate</th>\n",
       "    </tr>\n",
       "  </thead>\n",
       "  <tbody>\n",
       "    <tr>\n",
       "      <th>0</th>\n",
       "      <td>18861217679</td>\n",
       "      <td>DENVER UNION CORPROATION, Dissolved January 17...</td>\n",
       "      <td>1512 LARIMER STREET #760</td>\n",
       "      <td>NaN</td>\n",
       "      <td>Denver</td>\n",
       "      <td>CO</td>\n",
       "      <td>80202</td>\n",
       "      <td>NaN</td>\n",
       "      <td>NaN</td>\n",
       "      <td>NaN</td>\n",
       "      <td>...</td>\n",
       "      <td>CO</td>\n",
       "      <td>80202</td>\n",
       "      <td>US</td>\n",
       "      <td>NaN</td>\n",
       "      <td>NaN</td>\n",
       "      <td>NaN</td>\n",
       "      <td>NaN</td>\n",
       "      <td>NaN</td>\n",
       "      <td>NaN</td>\n",
       "      <td>03/29/1886</td>\n",
       "    </tr>\n",
       "    <tr>\n",
       "      <th>1</th>\n",
       "      <td>19871114819</td>\n",
       "      <td>GROWER-SHIPPER POTATO COMPANY</td>\n",
       "      <td>0132 CO RD 34</td>\n",
       "      <td>NaN</td>\n",
       "      <td>Monte Vista</td>\n",
       "      <td>CO</td>\n",
       "      <td>81144</td>\n",
       "      <td>US</td>\n",
       "      <td>PO BOX 432</td>\n",
       "      <td>NaN</td>\n",
       "      <td>...</td>\n",
       "      <td>CO</td>\n",
       "      <td>81101</td>\n",
       "      <td>US</td>\n",
       "      <td>PO BOX 809</td>\n",
       "      <td>NaN</td>\n",
       "      <td>ALAMOSA</td>\n",
       "      <td>CO</td>\n",
       "      <td>81101</td>\n",
       "      <td>US</td>\n",
       "      <td>06/28/1948</td>\n",
       "    </tr>\n",
       "    <tr>\n",
       "      <th>2</th>\n",
       "      <td>18911012261</td>\n",
       "      <td>GRADEN MERCANTILE COMPANY (THE), Dissolved May...</td>\n",
       "      <td>777 Main Ave.</td>\n",
       "      <td>NaN</td>\n",
       "      <td>Durango</td>\n",
       "      <td>CO</td>\n",
       "      <td>801302</td>\n",
       "      <td>US</td>\n",
       "      <td>P.O. Box Dr F</td>\n",
       "      <td>NaN</td>\n",
       "      <td>...</td>\n",
       "      <td>CO</td>\n",
       "      <td>81301</td>\n",
       "      <td>US</td>\n",
       "      <td>NaN</td>\n",
       "      <td>NaN</td>\n",
       "      <td>NaN</td>\n",
       "      <td>NaN</td>\n",
       "      <td>NaN</td>\n",
       "      <td>NaN</td>\n",
       "      <td>07/01/1891</td>\n",
       "    </tr>\n",
       "    <tr>\n",
       "      <th>3</th>\n",
       "      <td>19031090218</td>\n",
       "      <td>A. CARBONE AND COMPANY, INC., Dissolved Decemb...</td>\n",
       "      <td>846 East Eighteenth Avenue</td>\n",
       "      <td>NaN</td>\n",
       "      <td>Denver</td>\n",
       "      <td>CO</td>\n",
       "      <td>80218</td>\n",
       "      <td>US</td>\n",
       "      <td>NaN</td>\n",
       "      <td>NaN</td>\n",
       "      <td>...</td>\n",
       "      <td>NaN</td>\n",
       "      <td>NaN</td>\n",
       "      <td>NaN</td>\n",
       "      <td>NaN</td>\n",
       "      <td>NaN</td>\n",
       "      <td>NaN</td>\n",
       "      <td>NaN</td>\n",
       "      <td>NaN</td>\n",
       "      <td>NaN</td>\n",
       "      <td>03/31/1903</td>\n",
       "    </tr>\n",
       "    <tr>\n",
       "      <th>4</th>\n",
       "      <td>19871132823</td>\n",
       "      <td>WIREMAN'S BROTHERHOOD FUND, INC.</td>\n",
       "      <td>5660 Logan St</td>\n",
       "      <td>NaN</td>\n",
       "      <td>Denver</td>\n",
       "      <td>CO</td>\n",
       "      <td>80216</td>\n",
       "      <td>US</td>\n",
       "      <td>NaN</td>\n",
       "      <td>NaN</td>\n",
       "      <td>...</td>\n",
       "      <td>CO</td>\n",
       "      <td>80216</td>\n",
       "      <td>US</td>\n",
       "      <td>NaN</td>\n",
       "      <td>NaN</td>\n",
       "      <td>NaN</td>\n",
       "      <td>NaN</td>\n",
       "      <td>NaN</td>\n",
       "      <td>NaN</td>\n",
       "      <td>06/18/1956</td>\n",
       "    </tr>\n",
       "  </tbody>\n",
       "</table>\n",
       "<p>5 rows × 35 columns</p>\n",
       "</div>"
      ],
      "text/plain": [
       "      entityid                                         entityname  \\\n",
       "0  18861217679  DENVER UNION CORPROATION, Dissolved January 17...   \n",
       "1  19871114819                      GROWER-SHIPPER POTATO COMPANY   \n",
       "2  18911012261  GRADEN MERCANTILE COMPANY (THE), Dissolved May...   \n",
       "3  19031090218  A. CARBONE AND COMPANY, INC., Dissolved Decemb...   \n",
       "4  19871132823                   WIREMAN'S BROTHERHOOD FUND, INC.   \n",
       "\n",
       "            principaladdress1 principaladdress2 principalcity principalstate  \\\n",
       "0    1512 LARIMER STREET #760               NaN        Denver             CO   \n",
       "1               0132 CO RD 34               NaN   Monte Vista             CO   \n",
       "2               777 Main Ave.               NaN       Durango             CO   \n",
       "3  846 East Eighteenth Avenue               NaN        Denver             CO   \n",
       "4               5660 Logan St               NaN        Denver             CO   \n",
       "\n",
       "  principalzipcode principalcountry mailingaddress1 mailingaddress2  ...  \\\n",
       "0            80202              NaN             NaN             NaN  ...   \n",
       "1            81144               US      PO BOX 432             NaN  ...   \n",
       "2           801302               US   P.O. Box Dr F             NaN  ...   \n",
       "3            80218               US             NaN             NaN  ...   \n",
       "4            80216               US             NaN             NaN  ...   \n",
       "\n",
       "  agentprincipalstate agentprincipalzipcode agentprincipalcountry  \\\n",
       "0                  CO                 80202                    US   \n",
       "1                  CO                 81101                    US   \n",
       "2                  CO                 81301                    US   \n",
       "3                 NaN                   NaN                   NaN   \n",
       "4                  CO                 80216                    US   \n",
       "\n",
       "  agentmailingaddress1 agentmailingaddress2 agentmailingcity  \\\n",
       "0                  NaN                  NaN              NaN   \n",
       "1           PO BOX 809                  NaN          ALAMOSA   \n",
       "2                  NaN                  NaN              NaN   \n",
       "3                  NaN                  NaN              NaN   \n",
       "4                  NaN                  NaN              NaN   \n",
       "\n",
       "  agentmailingstate agentmailingzipcode agentmailingcountry entityformdate  \n",
       "0               NaN                 NaN                 NaN     03/29/1886  \n",
       "1                CO               81101                  US     06/28/1948  \n",
       "2               NaN                 NaN                 NaN     07/01/1891  \n",
       "3               NaN                 NaN                 NaN     03/31/1903  \n",
       "4               NaN                 NaN                 NaN     06/18/1956  \n",
       "\n",
       "[5 rows x 35 columns]"
      ]
     },
     "execution_count": 4,
     "metadata": {},
     "output_type": "execute_result"
    }
   ],
   "source": [
    "df.head()"
   ]
  },
  {
   "cell_type": "code",
   "execution_count": 5,
   "metadata": {},
   "outputs": [
    {
     "name": "stdout",
     "output_type": "stream",
     "text": [
      "Number of rows: 2586441\n",
      "Number of columns: 35\n"
     ]
    }
   ],
   "source": [
    "num_rows, num_cols = df.shape\n",
    "print(\"Number of rows:\", num_rows)\n",
    "print(\"Number of columns:\", num_cols)\n"
   ]
  },
  {
   "cell_type": "code",
   "execution_count": 12,
   "metadata": {},
   "outputs": [
    {
     "data": {
      "text/plain": [
       "entityid                   int64\n",
       "entityname                object\n",
       "principaladdress1         object\n",
       "principaladdress2         object\n",
       "principalcity             object\n",
       "principalstate            object\n",
       "principalzipcode          object\n",
       "principalcountry          object\n",
       "mailingaddress1           object\n",
       "mailingaddress2           object\n",
       "mailingcity               object\n",
       "mailingstate              object\n",
       "mailingzipcode            object\n",
       "mailingcountry            object\n",
       "entitystatus              object\n",
       "jurisdictonofformation    object\n",
       "entitytype                object\n",
       "agentfirstname            object\n",
       "agentmiddlename           object\n",
       "agentlastname             object\n",
       "agentsuffix               object\n",
       "agentorganizationname     object\n",
       "agentprincipaladdress1    object\n",
       "agentprincipaladdress2    object\n",
       "agentprincipalcity        object\n",
       "agentprincipalstate       object\n",
       "agentprincipalzipcode     object\n",
       "agentprincipalcountry     object\n",
       "agentmailingaddress1      object\n",
       "agentmailingaddress2      object\n",
       "agentmailingcity          object\n",
       "agentmailingstate         object\n",
       "agentmailingzipcode       object\n",
       "agentmailingcountry       object\n",
       "entityformdate            object\n",
       "dtype: object"
      ]
     },
     "execution_count": 12,
     "metadata": {},
     "output_type": "execute_result"
    }
   ],
   "source": [
    "df['entityformdate'] = pd.to_datetime(df['entityformdate']).dt.date\n",
    "df.dtypes"
   ]
  },
  {
   "cell_type": "code",
   "execution_count": 14,
   "metadata": {},
   "outputs": [
    {
     "name": "stdout",
     "output_type": "stream",
     "text": [
      "Range of business formation dates: ('1864-03-05', '2023-12-26')\n"
     ]
    }
   ],
   "source": [
    "date_range = (df['entityformdate'].min().strftime('%Y-%m-%d'), df['entityformdate'].max().strftime('%Y-%m-%d'))\n",
    "print(\"Range of business formation dates:\", date_range)\n"
   ]
  },
  {
   "cell_type": "code",
   "execution_count": 15,
   "metadata": {},
   "outputs": [
    {
     "data": {
      "text/plain": [
       "Index(['entityid', 'entityname', 'principaladdress1', 'principaladdress2',\n",
       "       'principalcity', 'principalstate', 'principalzipcode',\n",
       "       'principalcountry', 'mailingaddress1', 'mailingaddress2', 'mailingcity',\n",
       "       'mailingstate', 'mailingzipcode', 'mailingcountry', 'entitystatus',\n",
       "       'jurisdictonofformation', 'entitytype', 'agentfirstname',\n",
       "       'agentmiddlename', 'agentlastname', 'agentsuffix',\n",
       "       'agentorganizationname', 'agentprincipaladdress1',\n",
       "       'agentprincipaladdress2', 'agentprincipalcity', 'agentprincipalstate',\n",
       "       'agentprincipalzipcode', 'agentprincipalcountry',\n",
       "       'agentmailingaddress1', 'agentmailingaddress2', 'agentmailingcity',\n",
       "       'agentmailingstate', 'agentmailingzipcode', 'agentmailingcountry',\n",
       "       'entityformdate'],\n",
       "      dtype='object')"
      ]
     },
     "execution_count": 15,
     "metadata": {},
     "output_type": "execute_result"
    }
   ],
   "source": [
    "# what counties are represented?\n",
    "df.columns"
   ]
  },
  {
   "cell_type": "code",
   "execution_count": 17,
   "metadata": {},
   "outputs": [
    {
     "data": {
      "text/plain": [
       "101032"
      ]
     },
     "execution_count": 17,
     "metadata": {},
     "output_type": "execute_result"
    }
   ],
   "source": [
    "# what zip codes are represented?\n",
    "df.principalzipcode.unique()\n",
    "len(df.principalzipcode.unique())"
   ]
  },
  {
   "cell_type": "code",
   "execution_count": 18,
   "metadata": {},
   "outputs": [
    {
     "data": {
      "text/html": [
       "<div>\n",
       "<style scoped>\n",
       "    .dataframe tbody tr th:only-of-type {\n",
       "        vertical-align: middle;\n",
       "    }\n",
       "\n",
       "    .dataframe tbody tr th {\n",
       "        vertical-align: top;\n",
       "    }\n",
       "\n",
       "    .dataframe thead th {\n",
       "        text-align: right;\n",
       "    }\n",
       "</style>\n",
       "<table border=\"1\" class=\"dataframe\">\n",
       "  <thead>\n",
       "    <tr style=\"text-align: right;\">\n",
       "      <th></th>\n",
       "      <th>entityid</th>\n",
       "      <th>entityname</th>\n",
       "      <th>principaladdress1</th>\n",
       "      <th>principaladdress2</th>\n",
       "      <th>principalcity</th>\n",
       "      <th>principalstate</th>\n",
       "      <th>principalzipcode</th>\n",
       "      <th>principalcountry</th>\n",
       "      <th>mailingaddress1</th>\n",
       "      <th>mailingaddress2</th>\n",
       "      <th>...</th>\n",
       "      <th>agentprincipalstate</th>\n",
       "      <th>agentprincipalzipcode</th>\n",
       "      <th>agentprincipalcountry</th>\n",
       "      <th>agentmailingaddress1</th>\n",
       "      <th>agentmailingaddress2</th>\n",
       "      <th>agentmailingcity</th>\n",
       "      <th>agentmailingstate</th>\n",
       "      <th>agentmailingzipcode</th>\n",
       "      <th>agentmailingcountry</th>\n",
       "      <th>entityformdate</th>\n",
       "    </tr>\n",
       "  </thead>\n",
       "  <tbody>\n",
       "    <tr>\n",
       "      <th>0</th>\n",
       "      <td>18861217679</td>\n",
       "      <td>DENVER UNION CORPROATION, Dissolved January 17...</td>\n",
       "      <td>1512 LARIMER STREET #760</td>\n",
       "      <td>NaN</td>\n",
       "      <td>Denver</td>\n",
       "      <td>CO</td>\n",
       "      <td>80202</td>\n",
       "      <td>NaN</td>\n",
       "      <td>NaN</td>\n",
       "      <td>NaN</td>\n",
       "      <td>...</td>\n",
       "      <td>CO</td>\n",
       "      <td>80202</td>\n",
       "      <td>US</td>\n",
       "      <td>NaN</td>\n",
       "      <td>NaN</td>\n",
       "      <td>NaN</td>\n",
       "      <td>NaN</td>\n",
       "      <td>NaN</td>\n",
       "      <td>NaN</td>\n",
       "      <td>1886-03-29</td>\n",
       "    </tr>\n",
       "  </tbody>\n",
       "</table>\n",
       "<p>1 rows × 35 columns</p>\n",
       "</div>"
      ],
      "text/plain": [
       "      entityid                                         entityname  \\\n",
       "0  18861217679  DENVER UNION CORPROATION, Dissolved January 17...   \n",
       "\n",
       "          principaladdress1 principaladdress2 principalcity principalstate  \\\n",
       "0  1512 LARIMER STREET #760               NaN        Denver             CO   \n",
       "\n",
       "  principalzipcode principalcountry mailingaddress1 mailingaddress2  ...  \\\n",
       "0            80202              NaN             NaN             NaN  ...   \n",
       "\n",
       "  agentprincipalstate agentprincipalzipcode agentprincipalcountry  \\\n",
       "0                  CO                 80202                    US   \n",
       "\n",
       "  agentmailingaddress1 agentmailingaddress2 agentmailingcity  \\\n",
       "0                  NaN                  NaN              NaN   \n",
       "\n",
       "  agentmailingstate agentmailingzipcode agentmailingcountry entityformdate  \n",
       "0               NaN                 NaN                 NaN     1886-03-29  \n",
       "\n",
       "[1 rows x 35 columns]"
      ]
     },
     "execution_count": 18,
     "metadata": {},
     "output_type": "execute_result"
    }
   ],
   "source": [
    "df.head(1)"
   ]
  },
  {
   "cell_type": "code",
   "execution_count": null,
   "metadata": {},
   "outputs": [],
   "source": []
  }
 ],
 "metadata": {
  "kernelspec": {
   "display_name": "myenv",
   "language": "python",
   "name": "python3"
  },
  "language_info": {
   "codemirror_mode": {
    "name": "ipython",
    "version": 3
   },
   "file_extension": ".py",
   "mimetype": "text/x-python",
   "name": "python",
   "nbconvert_exporter": "python",
   "pygments_lexer": "ipython3",
   "version": "3.9.6"
  }
 },
 "nbformat": 4,
 "nbformat_minor": 2
}
